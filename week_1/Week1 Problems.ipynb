{
  "cells": [
    {
      "cell_type": "markdown",
      "metadata": {
        "id": "view-in-github",
        "colab_type": "text"
      },
      "source": [
        "<a href=\"https://colab.research.google.com/github/drewwint/ABCD-Repronim-ML/blob/main/week_1/Week1%20Problems.ipynb\" target=\"_parent\"><img src=\"https://colab.research.google.com/assets/colab-badge.svg\" alt=\"Open In Colab\"/></a>"
      ]
    },
    {
      "cell_type": "markdown",
      "metadata": {
        "id": "92g5-ry6R41h"
      },
      "source": [
        "# Weekly Tutorial Problems: Week 1\n",
        "Jérôme Dockès, Nikhil Bhagwat, Jacob Sanz-Robinson.\n",
        "\n",
        "Welcome to the first set of tutorial problems of the ABCD ReproNim Machine Learning course! They are largely based on Jérôme and Nikhil's exercises for the MAIN educational course: https://github.com/neurodatascience/main-2021-ml-parts-1-2\n",
        "\n",
        "Let's get started."
      ]
    },
    {
      "cell_type": "markdown",
      "metadata": {
        "id": "AVrn7p00R41j"
      },
      "source": [
        "# Lecture 1: Core Concepts in Machine Learning 1"
      ]
    },
    {
      "cell_type": "markdown",
      "metadata": {
        "id": "MYdPQrraR41k"
      },
      "source": [
        "## Question 1: Fitting and Prediction"
      ]
    },
    {
      "cell_type": "markdown",
      "metadata": {
        "id": "2lORRZ6WR41l"
      },
      "source": [
        "We have a chunk of code below. It imports the necessary libraries, generates some random data, and creates an instance of a linear least squares model with l2 (ridge) regularization. It fits the model to the data, obtains predictions, and calculates the Mean Squared Error of the predictions that were made.\n",
        "\n",
        "**Your task:**\n",
        "* The code runs, but there is a methodological issue in the way we are fitting data. What is this issue in the code below?"
      ]
    },
    {
      "cell_type": "code",
      "execution_count": 1,
      "metadata": {
        "colab": {
          "base_uri": "https://localhost:8080/"
        },
        "id": "v9ZFL0RPR41m",
        "outputId": "4d555de5-fcc6-451b-ea61-818cdad569c1"
      },
      "outputs": [
        {
          "output_type": "stream",
          "name": "stdout",
          "text": [
            "\n",
            "Mean Squared Error: 4.517304934456885e-18\n",
            "MSE is 0 up to machine precision: True\n"
          ]
        }
      ],
      "source": [
        "import numpy as np\n",
        "from sklearn.datasets import make_regression\n",
        "from sklearn.linear_model import Ridge\n",
        "from sklearn.metrics import mean_squared_error\n",
        "\n",
        "X, y = make_regression(n_samples=80, n_features=600, noise=10, random_state=0) #Generates a random linear combination of random features, with noise.\n",
        "\n",
        "model = Ridge(alpha=1e-8)\n",
        "model.fit(X, y)\n",
        "predictions = model.predict(X)\n",
        "mse = mean_squared_error(y, predictions)\n",
        "\n",
        "print(f\"\\nMean Squared Error: {mse}\")\n",
        "print(\"MSE is 0 up to machine precision:\", np.allclose(mse, 0))"
      ]
    },
    {
      "cell_type": "markdown",
      "metadata": {
        "id": "y7oyGRhjR41n"
      },
      "source": [
        "Now let's compare training and testing performance. We generate some new data, and split it into a train and test set.\n",
        "\n",
        "**Your task:**\n",
        "* Fit the model on training data only, get predictions for test data, and compute prediction error. Is it a much larger than error on the training data?"
      ]
    },
    {
      "cell_type": "code",
      "execution_count": 2,
      "metadata": {
        "colab": {
          "base_uri": "https://localhost:8080/"
        },
        "id": "Gvmjhgw1R41o",
        "outputId": "d7252486-9929-4e47-847f-ed2c9c6ded10"
      },
      "outputs": [
        {
          "output_type": "stream",
          "name": "stdout",
          "text": [
            "\n",
            "On a separate test set...\n",
            "Out-of-sample Mean Squared Error: 25420.842988621494\n"
          ]
        }
      ],
      "source": [
        "X, y = make_regression(n_samples=160, n_features=600, noise=10, random_state=0)\n",
        "X_train, X_test = X[:80], X[80:]\n",
        "y_train, y_test = y[:80], y[80:]\n",
        "\n",
        "#Your code here\n",
        "\n",
        "model.fit(X_train, y_train)\n",
        "predictions = model.predict(X_test)\n",
        "mse = mean_squared_error(y_test, predictions)\n",
        "print(f\"\\nOn a separate test set...\\nOut-of-sample Mean Squared Error: {mse}\")"
      ]
    },
    {
      "cell_type": "markdown",
      "metadata": {
        "id": "tEv89s6GR41o"
      },
      "source": [
        "## Question 2: Cross-Validation"
      ]
    },
    {
      "cell_type": "markdown",
      "metadata": {
        "id": "PbJ3Nx2mR41q"
      },
      "source": [
        "As in the previous question, we import the libraries we need, generate some random data, and create an instance of a linear least squares model with l2 regularization."
      ]
    },
    {
      "cell_type": "code",
      "execution_count": 3,
      "metadata": {
        "id": "mO_DLGaKR41r"
      },
      "outputs": [],
      "source": [
        "from sklearn.datasets import make_regression\n",
        "from sklearn import model_selection\n",
        "from sklearn.linear_model import Ridge\n",
        "\n",
        "X, y = make_regression(noise=10) #Generates a random linear combination of random features, with noise.\n",
        "model = Ridge()"
      ]
    },
    {
      "cell_type": "markdown",
      "metadata": {
        "id": "f4zzVnRDR41s"
      },
      "source": [
        "**Your task (should be ~2 lines of code):**\n",
        "* Using an appropriate function from scikit-learn, compute cross-validation scores for a ridge regression on this dataset.\n",
        "* What cross-validation strategy are you using? What do the scores represent -- what performance metric is used?\n",
        "* What is a good choice for k?\n",
        "* Once you are satisfied with the scores, fit the model to the data."
      ]
    },
    {
      "cell_type": "code",
      "execution_count": 4,
      "metadata": {
        "colab": {
          "base_uri": "https://localhost:8080/"
        },
        "id": "lE4CsyHKR41s",
        "outputId": "9a0c9dc3-733b-4ad7-a91a-0e003f13c62d"
      },
      "outputs": [
        {
          "output_type": "stream",
          "name": "stdout",
          "text": [
            "MSE=  [ 7821.55146052 12680.35280958  2041.3195349  13899.18838573\n",
            " 16806.64998889]\n",
            "r2=  [0.69194597 0.75472849 0.9147783  0.51052423 0.68740832]\n"
          ]
        },
        {
          "output_type": "execute_result",
          "data": {
            "text/plain": [
              "Ridge()"
            ]
          },
          "metadata": {},
          "execution_count": 4
        }
      ],
      "source": [
        "# Your code here\n",
        "from sklearn.model_selection import cross_val_score, cross_validate\n",
        "\n",
        "scores = cross_validate(model, X, y, cv=5, scoring={'neg_mean_squared_error','r2'})\n",
        "print(\"MSE= \",-scores['test_neg_mean_squared_error'])\n",
        "print(\"r2= \",scores['test_r2'])\n",
        "# print(\"val_score=\", cross_val_score(model, X, y, cv=5)) ## same as R2\n",
        "\n",
        "model.fit(X,y)\n"
      ]
    },
    {
      "cell_type": "markdown",
      "metadata": {
        "id": "maJ9lHbqR41t"
      },
      "source": [
        "## Question 3: Hyperparameters and Grid Search"
      ]
    },
    {
      "cell_type": "markdown",
      "metadata": {
        "id": "vV3O1WIMR41t"
      },
      "source": [
        "The chunk of code below imports the necessary datasets, generates some random data for us to classify.\n",
        "\n",
        "**Your task:**\n",
        "* Modify the \"model\" variable. It should use the GridSearchCV to run a Logistic Regression, doing a grid search over at least 3 different values of C (I suggest they each vary by an order of magnitude), and \"l1\" and \"l2\" penalty types."
      ]
    },
    {
      "cell_type": "code",
      "execution_count": 5,
      "metadata": {
        "colab": {
          "base_uri": "https://localhost:8080/"
        },
        "id": "BDK1YWC4R41t",
        "outputId": "4e21c712-4e0c-4ab6-9870-5fda994ee775"
      },
      "outputs": [
        {
          "output_type": "stream",
          "name": "stdout",
          "text": [
            "[0.95 0.8  0.95 1.   0.75]\n"
          ]
        }
      ],
      "source": [
        "import numpy as np\n",
        "from sklearn.datasets import make_classification\n",
        "from sklearn.linear_model import LogisticRegression\n",
        "from sklearn.model_selection import cross_validate, GridSearchCV\n",
        "from matplotlib import pyplot as plt\n",
        "\n",
        "X, y = make_classification() #Generate random data\n",
        "model = GridSearchCV(LogisticRegression(solver=\"liblinear\"), {\"C\": [0.01, 0.1, 1.0], \"penalty\": [\"l1\", \"l2\"]})\n",
        "scores = cross_validate(model, X, y)\n",
        "print(scores['test_score'])"
      ]
    },
    {
      "cell_type": "code",
      "source": [
        "# Creating a figure to visualize the grid of hyperparameters\n",
        "fig, ax = plt.subplots(figsize=(4, 4))\n",
        "a, b = np.mgrid[:3, :2]\n",
        "plt.scatter(a.ravel(), b.ravel())\n",
        "ax.set_xticks([0, 1, 2])\n",
        "ax.set_xticklabels([0.01, 0.1, 1.0])\n",
        "ax.set_yticks([0, 1])\n",
        "ax.set_yticklabels([\"l1\", \"l2\"])\n",
        "ax.set_xlabel(\"Hyperparam: C\")\n",
        "ax.set_ylabel(\"Hyperparam: 'penalty'\")\n",
        "ax.set_ylim(-1, 2)\n",
        "plt.show()"
      ],
      "metadata": {
        "colab": {
          "base_uri": "https://localhost:8080/",
          "height": 279
        },
        "id": "VD64ck6wq0Lm",
        "outputId": "f987df6a-be07-49b2-e2f7-93da0f9c4b35"
      },
      "execution_count": 6,
      "outputs": [
        {
          "output_type": "display_data",
          "data": {
            "text/plain": [
              "<Figure size 288x288 with 1 Axes>"
            ],
            "image/png": "[encoded data removed]"
          },
          "metadata": {
            "needs_background": "light"
          }
        }
      ]
    },
    {
      "cell_type": "markdown",
      "metadata": {
        "id": "k-3RAB6ZR41u"
      },
      "source": [
        "## Question 4: Prediction and Performance Scores"
      ]
    },
    {
      "cell_type": "markdown",
      "metadata": {
        "id": "N8v9bKbrR41u"
      },
      "source": [
        "In this question we're going to build a model that can recognize handwritten digits.\n",
        "\n",
        "Firstly, below are all the libraries we are going to use for this question. I suggest you Google them, or have a glance at their documentation if you don't already recognize them! Popular libraries often have very informative documentation, complete with examples.\n",
        "For example: https://scikit-learn.org/stable/user_guide.html"
      ]
    },
    {
      "cell_type": "code",
      "execution_count": 7,
      "metadata": {
        "id": "Y692DQO_R41u"
      },
      "outputs": [],
      "source": [
        "from sklearn.datasets import fetch_openml\n",
        "import matplotlib as mpl\n",
        "import matplotlib.pyplot as plt\n",
        "from sklearn.linear_model import SGDClassifier\n",
        "from sklearn.model_selection import cross_val_score\n",
        "from sklearn.model_selection import cross_val_predict\n",
        "from sklearn.metrics import confusion_matrix\n",
        "from sklearn.metrics import precision_score, recall_score, f1_score"
      ]
    },
    {
      "cell_type": "markdown",
      "metadata": {
        "id": "sV1fw_jhR41v"
      },
      "source": [
        "We're going to download the dataset we'll be using. It's the MNIST dataset - a set of 70,000 images of digits handwritten by high school students. It's a commonly used benchmark for Machine Learning algorithms, and a part of many Machine Learning courses, earning it it's infamous nickname of the 'Hello World' of Machine Learning."
      ]
    },
    {
      "cell_type": "code",
      "execution_count": 8,
      "metadata": {
        "colab": {
          "base_uri": "https://localhost:8080/"
        },
        "id": "gQz7-LayR41v",
        "outputId": "090d76c1-0050-4335-d562-bb4ac3ea4c98"
      },
      "outputs": [
        {
          "output_type": "execute_result",
          "data": {
            "text/plain": [
              "dict_keys(['data', 'target', 'frame', 'categories', 'feature_names', 'target_names', 'DESCR', 'details', 'url'])"
            ]
          },
          "metadata": {},
          "execution_count": 8
        }
      ],
      "source": [
        "mnist = fetch_openml('mnist_784', version=1, as_frame= False) #~130MB, might take a little time to download!\n",
        "mnist.keys()"
      ]
    },
    {
      "cell_type": "markdown",
      "metadata": {
        "id": "1KfaKkIVR41w"
      },
      "source": [
        "Let's look at the data dimensions, what the first digit looks like, and what it's label is:"
      ]
    },
    {
      "cell_type": "code",
      "execution_count": 9,
      "metadata": {
        "colab": {
          "base_uri": "https://localhost:8080/",
          "height": 284
        },
        "id": "WIOo2ZVSR41w",
        "outputId": "693297be-36be-4dd6-d493-3c442d48eb75"
      },
      "outputs": [
        {
          "output_type": "stream",
          "name": "stdout",
          "text": [
            "(70000, 784)\n"
          ]
        },
        {
          "output_type": "display_data",
          "data": {
            "text/plain": [
              "<Figure size 432x288 with 1 Axes>"
            ],
            "image/png": "[encoded data removed]"
          },
          "metadata": {
            "needs_background": "light"
          }
        },
        {
          "output_type": "stream",
          "name": "stdout",
          "text": [
            "5\n"
          ]
        }
      ],
      "source": [
        "X, y = mnist[\"data\"], mnist[\"target\"]\n",
        "print(X.shape) \n",
        "\n",
        "some_digit = X[0]\n",
        "some_digit_image = some_digit.reshape(28, 28)\n",
        "plt.imshow(some_digit_image, cmap = mpl.cm.binary, interpolation=\"nearest\")\n",
        "plt.axis(\"off\")\n",
        "plt.show()\n",
        "\n",
        "print(y[0])"
      ]
    },
    {
      "cell_type": "markdown",
      "metadata": {
        "id": "zlDVF0GSR41w"
      },
      "source": [
        "Now we're going to separate the data to use the first 60,000 images as our training set, and the final 10,000 for our test set.\n",
        "\n",
        "We're going to try to quickly make a binary classification model. It will be able to tell the difference between the number 5 and all the other digits. A 5-detector.\n",
        "\n",
        "Our classifier will be an instance of a SGDClassifier model. I've chosen this classifier because it can handle large datasets efficiently. The default setting we are using is a linear SVM (you will see what this is next week). It is sped up by using a variation of Gradient Descent - Stochastic Gradient Descent (deals with training instances independently, one at a time)."
      ]
    },
    {
      "cell_type": "code",
      "execution_count": 10,
      "metadata": {
        "id": "xl_1jqJsR41x"
      },
      "outputs": [],
      "source": [
        "X_train, X_test, y_train, y_test = X[:60000], X[60000:], y[:60000], y[60000:]\n",
        "y_train = y_train.astype(np.int8) #Casting labels from strings to integers\n",
        "\n",
        "#Here we are binarizing our labels. All labels that are 5 are converted to True, and the rest to False. \n",
        "y_train_5 = (y_train == 5)\n",
        "y_test_5 = (y_test == 5)\n",
        "\n",
        "sgd_clf = SGDClassifier(random_state=42) #42 is arbitrarily chosen. From documentation: \"Pass an int for reproducible output across multiple function calls\""
      ]
    },
    {
      "cell_type": "markdown",
      "metadata": {
        "id": "dhOI300cR41x"
      },
      "source": [
        "**Your task (should only be ~3 lines of code):**\n",
        "* Fit the sgd_clf model to the training data, and make a prediction using it. Was the prediction it made right?\n",
        "* Run cross validation using 3 folds on the model to determine it's accuracy. What accuracies are you getting for the 3 folds?"
      ]
    },
    {
      "cell_type": "code",
      "execution_count": 11,
      "metadata": {
        "colab": {
          "base_uri": "https://localhost:8080/"
        },
        "id": "oveVbTU1R41y",
        "outputId": "ffac5bb8-6adb-46f4-c93e-cb05c5161350"
      },
      "outputs": [
        {
          "output_type": "execute_result",
          "data": {
            "text/plain": [
              "array([ True])"
            ]
          },
          "metadata": {},
          "execution_count": 11
        }
      ],
      "source": [
        "#Your code here\n",
        "\n",
        "\n",
        "sgd_clf.fit(X_train, y_train_5)\n",
        "sgd_clf.predict([some_digit])\n"
      ]
    },
    {
      "cell_type": "code",
      "source": [
        "cross_val_score(sgd_clf, X_train, y_train_5, cv=3, scoring=\"accuracy\")"
      ],
      "metadata": {
        "colab": {
          "base_uri": "https://localhost:8080/"
        },
        "id": "WCDZyZRl5qnw",
        "outputId": "9d892446-394a-4d0d-ef79-80148cdec5f5"
      },
      "execution_count": 12,
      "outputs": [
        {
          "output_type": "execute_result",
          "data": {
            "text/plain": [
              "array([0.95035, 0.96035, 0.9604 ])"
            ]
          },
          "metadata": {},
          "execution_count": 12
        }
      ]
    },
    {
      "cell_type": "markdown",
      "metadata": {
        "id": "3iw6wvyGR41y"
      },
      "source": [
        "If you did everything right, you probably got something amazing, like 95% accuracy on all folds.\n",
        "Too good to be true? Yup...only about 10% of the images are 5s, so if you always guess that an image is NOT a 5, you will be right about 90% of the time...Not as impressive now."
      ]
    },
    {
      "cell_type": "markdown",
      "metadata": {
        "id": "yAPbk1vgR41y"
      },
      "source": [
        "**Your task (should only be ~2 lines of code):**\n",
        "\n",
        "Use the appropriate imported libraries to:\n",
        "* Obtain the predictions made on each fold of the training data.\n",
        "* Build a confusion matrix for these predictions."
      ]
    },
    {
      "cell_type": "code",
      "execution_count": 13,
      "metadata": {
        "colab": {
          "base_uri": "https://localhost:8080/"
        },
        "id": "6WLUtNY8R410",
        "outputId": "8e915ac7-7413-41a5-95f0-251026fd8f94"
      },
      "outputs": [
        {
          "output_type": "execute_result",
          "data": {
            "text/plain": [
              "array([[53892,   687],\n",
              "       [ 1891,  3530]])"
            ]
          },
          "metadata": {},
          "execution_count": 13
        }
      ],
      "source": [
        "#Your code here\n",
        "y_train_pred = cross_val_predict(sgd_clf, X_train, y_train_5, cv=3)\n",
        "confusion_matrix(y_train_5, y_train_pred)"
      ]
    },
    {
      "cell_type": "markdown",
      "metadata": {
        "id": "VUf8xX_lR410"
      },
      "source": [
        "Remember that each row in a confusion matrix represents an actual class, while each column represents a predicted class. So the first row of this matrix considers non-5 images (the negative class). The second row considers the images of 5s (the positive class).\n",
        "\n",
        "**Your task:**\n",
        "In your confusion Matrix, how many did you get for each of\n",
        "* true negatives: \n",
        "* false positives: \n",
        "* false negatives: \n",
        "* true positives:\n",
        "\n",
        "* Use sklearn to find the precision, recall, and f1_score of these obtained predictions."
      ]
    },
    {
      "cell_type": "code",
      "execution_count": 14,
      "metadata": {
        "colab": {
          "base_uri": "https://localhost:8080/"
        },
        "id": "fUkbPKquR410",
        "outputId": "f161889b-120a-4826-da7e-82382f4e74b0"
      },
      "outputs": [
        {
          "output_type": "stream",
          "name": "stdout",
          "text": [
            "0.8370879772350012\n",
            "0.6511713705958311\n",
            "0.7325171197343846\n"
          ]
        }
      ],
      "source": [
        "# Your code here\n",
        "\n",
        "print(precision_score(y_train_5, y_train_pred))\n",
        "print(recall_score(y_train_5, y_train_pred))\n",
        "print(f1_score(y_train_5, y_train_pred))"
      ]
    },
    {
      "cell_type": "markdown",
      "metadata": {
        "id": "npVWI_DkR411"
      },
      "source": [
        "# Lecture 2: Core Concepts in Machine Learning 2"
      ]
    },
    {
      "cell_type": "markdown",
      "metadata": {
        "id": "eZktKYTIR411"
      },
      "source": [
        "## Question 1: Dataset Transformation\n",
        "**Your task:**\n",
        "Use an sklearn function seen in the recorded lectures to modify the variable X_scaled. X_scaled should standardize the feature variable X by removing the mean and scaling to unit variance."
      ]
    },
    {
      "cell_type": "code",
      "execution_count": 16,
      "metadata": {
        "colab": {
          "base_uri": "https://localhost:8080/"
        },
        "id": "BrvnQ_e1R411",
        "outputId": "ce5bffbe-54dc-46eb-8948-a88615f35fae"
      },
      "outputs": [
        {
          "output_type": "stream",
          "name": "stdout",
          "text": [
            "X:\n",
            "[[  0   1 -10]\n",
            " [  0  -1   0]\n",
            " [  1   0  10]\n",
            " [  1   0   0]]\n",
            "\n",
            "X scaled:\n",
            "[[-1.          1.41421356 -1.41421356]\n",
            " [-1.         -1.41421356  0.        ]\n",
            " [ 1.          0.          1.41421356]\n",
            " [ 1.          0.          0.        ]]\n",
            "\n",
            "mean: [0. 0. 0.]\n",
            "std: [1. 1. 1.]\n"
          ]
        }
      ],
      "source": [
        "import numpy as np\n",
        "from sklearn.preprocessing import StandardScaler\n",
        "\n",
        "X = np.asarray([[0, 1, -10], [0, -1, 0], [1, 0, 10], [1, 0, 0]])\n",
        "print(f\"X:\\n{X}\\n\")\n",
        "\n",
        "X_scaled = StandardScaler().fit_transform(X)\n",
        "\n",
        "print(f\"X scaled:\\n{X_scaled}\\n\")\n",
        "print(f\"mean: {X_scaled.mean(axis=0)}\\nstd: {X_scaled.std(axis=0)}\")"
      ]
    },
    {
      "cell_type": "markdown",
      "metadata": {
        "id": "5IvPO8ckR411"
      },
      "source": [
        "## Question 2: Feature Selection"
      ]
    },
    {
      "cell_type": "markdown",
      "metadata": {
        "id": "SB6qyOCxR412"
      },
      "source": [
        "As in the previous questions, we import relevant libraries and generate random data for regression. We then use the SelectKBest function from sklearn to perform feature selection (select features according to the k highest scores using f_regression - a linear model for testing the effect of a regressor), and perform cross validation using the Ridge linear model.\n",
        "\n",
        "**Your task:**\n",
        "What is the methodological issue with the chunk of code?"
      ]
    },
    {
      "cell_type": "code",
      "execution_count": 17,
      "metadata": {
        "colab": {
          "base_uri": "https://localhost:8080/"
        },
        "id": "qSqDIso7R413",
        "outputId": "34dfd735-ece7-44d9-c35a-33b66fd03772"
      },
      "outputs": [
        {
          "output_type": "stream",
          "name": "stdout",
          "text": [
            "feature selection in 'preprocessing': [0.81169757 0.63046326 0.54143034 0.72676923 0.8752332 ]\n"
          ]
        }
      ],
      "source": [
        "from sklearn.datasets import make_regression\n",
        "from sklearn.linear_model import Ridge\n",
        "from sklearn.feature_selection import SelectKBest, f_regression\n",
        "from sklearn.model_selection import cross_validate\n",
        "from sklearn.pipeline import make_pipeline\n",
        "from matplotlib import pyplot as plt\n",
        "\n",
        "X, y = make_regression(noise=10, n_features=5000, random_state=0)\n",
        "\n",
        "X_reduced = SelectKBest(f_regression).fit_transform(X, y)\n",
        "scores = cross_validate(Ridge(), X_reduced, y)[\"test_score\"]\n",
        "print(\"feature selection in 'preprocessing':\", scores)"
      ]
    },
    {
      "cell_type": "markdown",
      "metadata": {
        "id": "Y0QtlFs5R413"
      },
      "source": [
        "So...now let's fix it. To do this we are going to create a pipeline. We will make sure to fit the whole pipeline to the training set.\n",
        "\n",
        "**Your task:**\n",
        "* Modify the 'model' variable. Use the appropriate sklearn method to make a pipeline out of the functions from the previous chunk of code.\n",
        "* How do your results vary? Why do you think this is?"
      ]
    },
    {
      "cell_type": "code",
      "execution_count": 19,
      "metadata": {
        "colab": {
          "base_uri": "https://localhost:8080/",
          "height": 315
        },
        "id": "WTalUW2KR414",
        "outputId": "af0bf55d-bc2a-47f1-8f00-6bf0ec0d6f9d"
      },
      "outputs": [
        {
          "output_type": "stream",
          "name": "stdout",
          "text": [
            "feature selection on train set: [ 0.11577751  0.0439333  -0.27625968  0.32327364  0.28367254]\n"
          ]
        },
        {
          "output_type": "display_data",
          "data": {
            "text/plain": [
              "<Figure size 432x288 with 1 Axes>"
            ],
            "image/png": "[encoded data removed]"
          },
          "metadata": {
            "needs_background": "light"
          }
        }
      ],
      "source": [
        "model = make_pipeline(SelectKBest(f_regression),Ridge())\n",
        "scores_pipe = cross_validate(model, X, y)[\"test_score\"]\n",
        "print(\"feature selection on train set:\", scores_pipe)\n",
        "\n",
        "# Plotting our results!\n",
        "plt.boxplot(\n",
        "    [scores_pipe, scores],\n",
        "    vert=False,\n",
        "    labels=[\n",
        "        \"feature selection on train set\",\n",
        "        \"feature selection on whole data\",\n",
        "    ],\n",
        ")\n",
        "plt.gca().set_xlabel(\"R² score\")\n",
        "plt.tight_layout()\n",
        "plt.show()"
      ]
    },
    {
      "cell_type": "markdown",
      "metadata": {
        "id": "uB47bxfvR414"
      },
      "source": [
        "## Question 3: Dimensionality Reduction"
      ]
    },
    {
      "cell_type": "markdown",
      "metadata": {
        "id": "q3N8xfhzR414"
      },
      "source": [
        "The sklearn library has included a dataset featuring breast cancer data. We fit the data, then transform it, standardizing the feature variable.\n",
        "\n",
        "**Your task:**\n",
        "* Use the sklearn PCA model to only keep the first two principal components of the data.\n",
        "* Fit the PCA model to breast cancer data, and tranform the data onto the first two principal components.\n",
        "* Compare original and reduced shape of the data...Is it behaving how you would expect?\n",
        "* Bonus: Create a plot to visualize the first vs second principal components (or any other method you would like to compare them)! Does it seem like the classes are easily separable?"
      ]
    },
    {
      "cell_type": "code",
      "execution_count": 20,
      "metadata": {
        "id": "SW4iqSCSR415"
      },
      "outputs": [],
      "source": [
        "from sklearn.datasets import load_breast_cancer\n",
        "from sklearn.decomposition import PCA\n",
        "from sklearn.preprocessing import StandardScaler\n",
        "\n",
        "cancer = load_breast_cancer()\n",
        "scaler = StandardScaler()\n",
        "scaler.fit(cancer.data)\n",
        "X_scaled = scaler.transform(cancer.data)\n",
        "\n",
        "#Your code here"
      ]
    },
    {
      "cell_type": "markdown",
      "metadata": {
        "id": "rAlfUGYtR415"
      },
      "source": [
        "## Question 4: Big Picture - Scanning site prediction"
      ]
    },
    {
      "cell_type": "markdown",
      "metadata": {
        "id": "OsMR1TqYR415"
      },
      "source": [
        "We have some fMRI time series, that we use to compute a connectivity matrix for each participant. We use the connectivity matrix values as our input features to predict to which site the participant belongs.\n",
        "We classify participants using a logistic regression. However we make several additions.\n",
        "\n",
        "### Pipeline\n",
        "We use scikit-learn's `sklearn.pipeline.Pipeline`, that enables chaining several transformations into a single scikit-learn estimator (an object with a `fit` method). This avoids dealing with the connectivity feature extraction separately and ensures everything is fitted on the training data only -- which is crucial here because we will add scaling a dimensionality reduction step with Principal Component Analysis.\n",
        "\n",
        "### Scaling\n",
        "We add scaling of the input features using scikit-learn's StandardScaler, which removes the mean and scales the features to unit variance. This helps the logistic regression solver converge faster and often improves performance.\n",
        "\n",
        "### Dimensionality Reduction\n",
        "We also consider a pipeline that reduces the dimension of input features with PCA, and compare it to the baseline logistic regrssion. One advantage is that the pipeline that uses PCA can be fitted much faster.\n",
        "\n",
        "### Cross-validation\n",
        "Here, we will use scikit-learn's `cross_validate` to perform K-Fold cross-validation and get a better estimate of our model's generalization performance. This allows comparing logistic regression with and without PCA, as well as a naive baseline.\n",
        "\n",
        "Moreover, instead of the plain `LogisticRegression`, we use scikit-learn's `LogisticRegressionCV`, which automatically performs a nested cross-validation loop on the training data to select the best hyperparameter.\n",
        "\n",
        "**We therefore obtain a typical supervised learning experiment, with learning pipelines that involve chained transformations, hyperparameter selection, a cross-validation, and comparison of several models and a baseline.**"
      ]
    },
    {
      "cell_type": "markdown",
      "metadata": {
        "id": "1Iv_LE4TR416"
      },
      "source": [
        "# Exercises\n",
        "\n",
        "* Read, understand and run the code in the cell below. `load_connectivity_data` loads the data and returns the matrices `X` and `y`. `prepare_pipelines` returns a dictionary whose values are scikit-learn estimators and whose keys are names for each estimator. All estimators are instances of scikit-learn's `Pipeline`, and the first step is always connectivity feature extraction with nilearn's `ConnectivityMeasure`.\n",
        "\n",
        "\n",
        "* At the moment `prepare_pipelines` only returns 2 estimators: the logistic regression and a dummy estimator. Add a third estimator in the returned dictionary, which contains a dimensionality reduction step: a PCA with 20 components. To do so, add a `sklearn.decomposition.PCA` as the second step of the pipeline. Note 20 is an arbitrary choice; how could we set the number of components in a principled way? What is the largest number of components we could ask for?\n",
        "\n",
        "\n",
        "* There are 111 regions in the atlas we use to compute region-region connectivity matrices: the output of the `ConnectivityMeasure` has 111 * (111 - 1) / 2 = 6105 columns. If the dataset has 100 participants, What is the size of the coefficients of the logistic regression? of the selected (20 first) principal components? of the output of the PCA transformation (ie the compressed design matrix)?\n",
        "\n",
        "\n",
        "* Here we are storing data and model coefficients in arrays of 64-bit floating-point values, meaning each number takes 64 bits = 8 bytes of memory. Approximately how much memory is used by the design matrix X? by the dimensionality-reduced data (ie the kept left singular vectors of X)? by the principal components (the kept right singular vectors of X)?\n",
        "\n",
        "\n",
        "* As you can see, in this script we do not specify explicitly the metric functions that are used to evaluate models, but rely on scikit-learn's defaults instead. What metric is used in order to select the best hyperparameter? What metric is used to compute scores in `cross_validate`? Are these defaults appropriate for our particular situation?\n",
        "\n",
        "\n",
        "* We do not specify the cross-validation strategy either. Which cross-validation procedure is used in `cross_validate`, and by the `LogisticRegressionCV`? Are these choices appropriate?\n",
        "\n",
        "## Additional exercises (optional)\n",
        "\n",
        "* Try replacing the default metrics with other scoring functions from scikit-learn or functions that you write yourself. Does the relative performance of the models change?\n",
        "\n",
        "* Specify the cross-validation strategy explicitly, possibly choosing a different one than the default.\n",
        "\n",
        "* Add another estimator to the options returned by `prepare_pipelines`, that uses univariate feature selection instead of PCA.\n",
        "\n",
        "* What other approach could we use to obtain connectivity features of a lower dimension?"
      ]
    },
    {
      "cell_type": "code",
      "source": [
        "! pip install nilearn"
      ],
      "metadata": {
        "colab": {
          "base_uri": "https://localhost:8080/",
          "height": 642
        },
        "id": "7Js29AADBEd2",
        "outputId": "edaa58c0-0cae-4ded-8e08-cba1230e88d9"
      },
      "execution_count": 22,
      "outputs": [
        {
          "output_type": "stream",
          "name": "stdout",
          "text": [
            "Looking in indexes: https://pypi.org/simple, https://us-python.pkg.dev/colab-wheels/public/simple/\n",
            "Collecting nilearn\n",
            "  Downloading nilearn-0.9.1-py3-none-any.whl (9.6 MB)\n",
            "\u001b[K     |████████████████████████████████| 9.6 MB 4.8 MB/s \n",
            "\u001b[?25hRequirement already satisfied: requests>=2 in /usr/local/lib/python3.7/dist-packages (from nilearn) (2.23.0)\n",
            "Requirement already satisfied: scikit-learn>=0.22 in /usr/local/lib/python3.7/dist-packages (from nilearn) (1.0.2)\n",
            "Requirement already satisfied: lxml in /usr/local/lib/python3.7/dist-packages (from nilearn) (4.2.6)\n",
            "Requirement already satisfied: nibabel>=3.0.0 in /usr/local/lib/python3.7/dist-packages (from nilearn) (3.0.2)\n",
            "Requirement already satisfied: pandas>=1.0 in /usr/local/lib/python3.7/dist-packages (from nilearn) (1.3.5)\n",
            "Requirement already satisfied: joblib>=0.15 in /usr/local/lib/python3.7/dist-packages (from nilearn) (1.1.0)\n",
            "Requirement already satisfied: numpy>=1.18 in /usr/local/lib/python3.7/dist-packages (from nilearn) (1.21.6)\n",
            "Collecting scipy>=1.5\n",
            "  Downloading scipy-1.7.3-cp37-cp37m-manylinux_2_12_x86_64.manylinux2010_x86_64.whl (38.1 MB)\n",
            "\u001b[K     |████████████████████████████████| 38.1 MB 381 kB/s \n",
            "\u001b[?25hRequirement already satisfied: pytz>=2017.3 in /usr/local/lib/python3.7/dist-packages (from pandas>=1.0->nilearn) (2022.1)\n",
            "Requirement already satisfied: python-dateutil>=2.7.3 in /usr/local/lib/python3.7/dist-packages (from pandas>=1.0->nilearn) (2.8.2)\n",
            "Requirement already satisfied: six>=1.5 in /usr/local/lib/python3.7/dist-packages (from python-dateutil>=2.7.3->pandas>=1.0->nilearn) (1.15.0)\n",
            "Requirement already satisfied: idna<3,>=2.5 in /usr/local/lib/python3.7/dist-packages (from requests>=2->nilearn) (2.10)\n",
            "Requirement already satisfied: urllib3!=1.25.0,!=1.25.1,<1.26,>=1.21.1 in /usr/local/lib/python3.7/dist-packages (from requests>=2->nilearn) (1.24.3)\n",
            "Requirement already satisfied: certifi>=2017.4.17 in /usr/local/lib/python3.7/dist-packages (from requests>=2->nilearn) (2022.5.18.1)\n",
            "Requirement already satisfied: chardet<4,>=3.0.2 in /usr/local/lib/python3.7/dist-packages (from requests>=2->nilearn) (3.0.4)\n",
            "Requirement already satisfied: threadpoolctl>=2.0.0 in /usr/local/lib/python3.7/dist-packages (from scikit-learn>=0.22->nilearn) (3.1.0)\n",
            "Installing collected packages: scipy, nilearn\n",
            "  Attempting uninstall: scipy\n",
            "    Found existing installation: scipy 1.4.1\n",
            "    Uninstalling scipy-1.4.1:\n",
            "      Successfully uninstalled scipy-1.4.1\n",
            "\u001b[31mERROR: pip's dependency resolver does not currently take into account all the packages that are installed. This behaviour is the source of the following dependency conflicts.\n",
            "albumentations 0.1.12 requires imgaug<0.2.7,>=0.2.5, but you have imgaug 0.2.9 which is incompatible.\u001b[0m\n",
            "Successfully installed nilearn-0.9.1 scipy-1.7.3\n"
          ]
        },
        {
          "output_type": "display_data",
          "data": {
            "application/vnd.colab-display-data+json": {
              "pip_warning": {
                "packages": [
                  "scipy"
                ]
              }
            }
          },
          "metadata": {}
        }
      ]
    },
    {
      "cell_type": "code",
      "execution_count": 10,
      "metadata": {
        "id": "b0fARKRAR417"
      },
      "outputs": [],
      "source": [
        "from nilearn import datasets\n",
        "from nilearn.connectome import ConnectivityMeasure\n",
        "\n",
        "from sklearn.base import clone\n",
        "from sklearn.preprocessing import LabelEncoder, StandardScaler\n",
        "from sklearn.model_selection import cross_validate\n",
        "from sklearn.pipeline import make_pipeline\n",
        "from sklearn.linear_model import LogisticRegressionCV\n",
        "from sklearn.dummy import DummyClassifier\n",
        "\n",
        "from matplotlib import pyplot as plt\n",
        "import pandas as pd\n",
        "import seaborn as sns\n",
        "\n",
        "from sklearn.decomposition import PCA\n",
        "from sklearn.feature_selection import SelectKBest, f_classif"
      ]
    },
    {
      "cell_type": "code",
      "execution_count": 11,
      "metadata": {
        "id": "7kzjWOdkR417"
      },
      "outputs": [],
      "source": [
        "def load_timeseries_and_site(n_subjects=100):\n",
        "    \"\"\"Load ABIDE timeseries and participants' site.\n",
        "    Returns X, a list with one array of shape (n_samples, n_rois) per\n",
        "    participant, and y, an array of length n_participants containing integers\n",
        "    representing the site each participant belongs to.\n",
        "    \"\"\"\n",
        "    data = datasets.fetch_abide_pcp(\n",
        "        n_subjects=n_subjects, derivatives=[\"rois_ho\"], quality_checked=False\n",
        "    )\n",
        "    X = data[\"rois_ho\"]\n",
        "    y = LabelEncoder().fit_transform(data[\"phenotypic\"][\"SITE_ID\"])\n",
        "    return X, y\n",
        "\n",
        "def prepare_pipelines():\n",
        "    \"\"\"Prepare scikit-learn pipelines for fmri classification with connectivity.\n",
        "    Returns a dictionary where each value is a scikit-learn estimator (a\n",
        "    `Pipeline`) and the corresponding key is a descriptive string for that\n",
        "    estimator.\n",
        "    As an exercise you need to add a pipeline that performs dimensionality\n",
        "    reduction with PCA.\n",
        "    \"\"\"\n",
        "    connectivity = ConnectivityMeasure(\n",
        "        kind=\"correlation\", vectorize=True, discard_diagonal=True\n",
        "    )\n",
        "    scaling = StandardScaler()\n",
        "    logreg = LogisticRegressionCV(solver=\"liblinear\", cv=3, Cs=3)\n",
        "    logistic_reg = make_pipeline(\n",
        "        clone(connectivity),  clone(scaling), clone(logreg)\n",
        "    )\n",
        "\n",
        "    pca_logistic_reg = make_pipeline(\n",
        "        clone(connectivity),\n",
        "        clone(scaling),\n",
        "        PCA(n_components=20),\n",
        "        clone(logreg),\n",
        "    )\n",
        "    kbest_logistic_reg = make_pipeline(\n",
        "        clone(connectivity),\n",
        "        clone(scaling),\n",
        "        SelectKBest(f_classif, k=300),\n",
        "        clone(logreg),\n",
        "    )\n",
        "    # make_pipeline is a convenient way to create a Pipeline by passing the\n",
        "    # steps as arguments. clone creates a copy of the input estimator, to avoid\n",
        "    # sharing the state of an estimator across pipelines.\n",
        "    dummy = make_pipeline(clone(connectivity),  DummyClassifier())\n",
        "    # TODO: add a pipeline with a PCA dimensionality reduction step to this\n",
        "    # dictionary. You will need to import `sklearn.decomposition.PCA`.\n",
        "    return {\n",
        "        \"Logistic no PCA\": logistic_reg,\n",
        "        \"Logistic with PCA\": pca_logistic_reg,\n",
        "        \"Logistic with feature selection\": kbest_logistic_reg,\n",
        "        \"Dummy\": dummy,\n",
        "    }\n",
        "\n",
        "def compute_cv_scores(models, X, y):\n",
        "    \"\"\"Compute cross-validation scores for all models\n",
        "    `models` is a dictionary like the one returned by `prepare_pipelines`, ie\n",
        "    of the form `{\"model_name\": estimator}`, where `estimator` is a\n",
        "    scikit-learn estimator.\n",
        "    `X` and `y` are the design matrix and the outputs to predict.\n",
        "    Returns a `pd.DataFrame` with one row for each model and cross-validation\n",
        "    fold. Columns include `test_score` and `fit_time`.\n",
        "    \"\"\"\n",
        "    all_scores = []\n",
        "    for model_name, model in models.items():\n",
        "        print(f\"Computing scores for model: '{model_name}'\")\n",
        "        model_scores = pd.DataFrame(cross_validate(model, X, y))\n",
        "        model_scores[\"model\"] = model_name\n",
        "        all_scores.append(model_scores)\n",
        "    all_scores = pd.concat(all_scores)\n",
        "    return all_scores"
      ]
    },
    {
      "cell_type": "code",
      "execution_count": 12,
      "metadata": {
        "colab": {
          "base_uri": "https://localhost:8080/",
          "height": 511
        },
        "id": "h2FumH7YR418",
        "outputId": "bc8353ad-edd8-4d86-ec73-01b69b8a1a83"
      },
      "outputs": [
        {
          "output_type": "stream",
          "name": "stderr",
          "text": [
            "/usr/local/lib/python3.7/dist-packages/nilearn/datasets/func.py:1020: UserWarning: `legacy_format` will default to `False` in release 0.11. Dataset fetchers will then return pandas dataframes by default instead of recarrays.\n",
            "  warnings.warn(_LEGACY_FORMAT_MSG)\n"
          ]
        },
        {
          "output_type": "stream",
          "name": "stdout",
          "text": [
            "Computing scores for model: 'Logistic no PCA'\n",
            "Computing scores for model: 'Logistic with PCA'\n",
            "Computing scores for model: 'Logistic with feature selection'\n",
            "Computing scores for model: 'Dummy'\n",
            "                                 fit_time  score_time  test_score\n",
            "model                                                            \n",
            "Dummy                            0.158029    0.037918        0.56\n",
            "Logistic no PCA                  1.857320    0.042610        0.87\n",
            "Logistic with PCA                0.261179    0.044675        0.80\n",
            "Logistic with feature selection  0.283297    0.041543        0.83\n"
          ]
        },
        {
          "output_type": "display_data",
          "data": {
            "text/plain": [
              "<Figure size 432x288 with 1 Axes>"
            ],
            "image/png": "[encoded data removed]"
          },
          "metadata": {
            "needs_background": "light"
          }
        }
      ],
      "source": [
        "X, y = load_timeseries_and_site()\n",
        "models = prepare_pipelines()\n",
        "all_scores = compute_cv_scores(models, X, y)\n",
        "print(all_scores.groupby(\"model\").mean())\n",
        "sns.stripplot(data=all_scores, x=\"test_score\", y=\"model\")\n",
        "plt.tight_layout()\n",
        "plt.show()"
      ]
    }
  ],
  "metadata": {
    "kernelspec": {
      "display_name": "Python 3",
      "language": "python",
      "name": "python3"
    },
    "language_info": {
      "codemirror_mode": {
        "name": "ipython",
        "version": 3
      },
      "file_extension": ".py",
      "mimetype": "text/x-python",
      "name": "python",
      "nbconvert_exporter": "python",
      "pygments_lexer": "ipython3",
      "version": "3.6.9"
    },
    "colab": {
      "name": "Week1 Problems.ipynb",
      "provenance": [],
      "include_colab_link": true
    }
  },
  "nbformat": 4,
  "nbformat_minor": 0
}